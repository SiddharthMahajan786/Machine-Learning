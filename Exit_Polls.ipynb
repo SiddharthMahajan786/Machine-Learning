{
 "cells": [
  {
   "cell_type": "code",
   "execution_count": 418,
   "metadata": {},
   "outputs": [],
   "source": [
    "import numpy as np\n",
    "import pandas as pd  \n",
    "from sklearn.linear_model import LinearRegression\n",
    "from sklearn.metrics import mean_squared_error\n",
    "import matplotlib.pyplot as plt   \n",
    "import seaborn as sns\n",
    "from sklearn import metrics\n",
    "from sklearn.metrics import roc_auc_score,roc_curve,classification_report,confusion_matrix\n",
    "from sklearn.model_selection import train_test_split\n",
    "from sklearn.discriminant_analysis import LinearDiscriminantAnalysis\n",
    "from sklearn.metrics import confusion_matrix\n",
    "from sklearn.preprocessing import scale\n",
    "%matplotlib inline "
   ]
  },
  {
   "cell_type": "code",
   "execution_count": 419,
   "metadata": {},
   "outputs": [],
   "source": [
    "import warnings\n",
    "warnings.filterwarnings('ignore')"
   ]
  },
  {
   "cell_type": "code",
   "execution_count": 420,
   "metadata": {},
   "outputs": [],
   "source": [
    "# reading the Excel file into pandas dataframe\n",
    "Election = pd.read_excel(\"Election_Data-1.xlsx\", sheet_name=\"Election_Dataset_Two Classes\")  "
   ]
  },
  {
   "cell_type": "code",
   "execution_count": 421,
   "metadata": {},
   "outputs": [
    {
     "data": {
      "text/html": [
       "<div>\n",
       "<style scoped>\n",
       "    .dataframe tbody tr th:only-of-type {\n",
       "        vertical-align: middle;\n",
       "    }\n",
       "\n",
       "    .dataframe tbody tr th {\n",
       "        vertical-align: top;\n",
       "    }\n",
       "\n",
       "    .dataframe thead th {\n",
       "        text-align: right;\n",
       "    }\n",
       "</style>\n",
       "<table border=\"1\" class=\"dataframe\">\n",
       "  <thead>\n",
       "    <tr style=\"text-align: right;\">\n",
       "      <th></th>\n",
       "      <th>Unnamed: 0</th>\n",
       "      <th>vote</th>\n",
       "      <th>age</th>\n",
       "      <th>economic.cond.national</th>\n",
       "      <th>economic.cond.household</th>\n",
       "      <th>Blair</th>\n",
       "      <th>Hague</th>\n",
       "      <th>Europe</th>\n",
       "      <th>political.knowledge</th>\n",
       "      <th>gender</th>\n",
       "    </tr>\n",
       "  </thead>\n",
       "  <tbody>\n",
       "    <tr>\n",
       "      <td>0</td>\n",
       "      <td>1</td>\n",
       "      <td>Labour</td>\n",
       "      <td>43</td>\n",
       "      <td>3</td>\n",
       "      <td>3</td>\n",
       "      <td>4</td>\n",
       "      <td>1</td>\n",
       "      <td>2</td>\n",
       "      <td>2</td>\n",
       "      <td>female</td>\n",
       "    </tr>\n",
       "    <tr>\n",
       "      <td>1</td>\n",
       "      <td>2</td>\n",
       "      <td>Labour</td>\n",
       "      <td>36</td>\n",
       "      <td>4</td>\n",
       "      <td>4</td>\n",
       "      <td>4</td>\n",
       "      <td>4</td>\n",
       "      <td>5</td>\n",
       "      <td>2</td>\n",
       "      <td>male</td>\n",
       "    </tr>\n",
       "    <tr>\n",
       "      <td>2</td>\n",
       "      <td>3</td>\n",
       "      <td>Labour</td>\n",
       "      <td>35</td>\n",
       "      <td>4</td>\n",
       "      <td>4</td>\n",
       "      <td>5</td>\n",
       "      <td>2</td>\n",
       "      <td>3</td>\n",
       "      <td>2</td>\n",
       "      <td>male</td>\n",
       "    </tr>\n",
       "    <tr>\n",
       "      <td>3</td>\n",
       "      <td>4</td>\n",
       "      <td>Labour</td>\n",
       "      <td>24</td>\n",
       "      <td>4</td>\n",
       "      <td>2</td>\n",
       "      <td>2</td>\n",
       "      <td>1</td>\n",
       "      <td>4</td>\n",
       "      <td>0</td>\n",
       "      <td>female</td>\n",
       "    </tr>\n",
       "    <tr>\n",
       "      <td>4</td>\n",
       "      <td>5</td>\n",
       "      <td>Labour</td>\n",
       "      <td>41</td>\n",
       "      <td>2</td>\n",
       "      <td>2</td>\n",
       "      <td>1</td>\n",
       "      <td>1</td>\n",
       "      <td>6</td>\n",
       "      <td>2</td>\n",
       "      <td>male</td>\n",
       "    </tr>\n",
       "    <tr>\n",
       "      <td>...</td>\n",
       "      <td>...</td>\n",
       "      <td>...</td>\n",
       "      <td>...</td>\n",
       "      <td>...</td>\n",
       "      <td>...</td>\n",
       "      <td>...</td>\n",
       "      <td>...</td>\n",
       "      <td>...</td>\n",
       "      <td>...</td>\n",
       "      <td>...</td>\n",
       "    </tr>\n",
       "    <tr>\n",
       "      <td>1520</td>\n",
       "      <td>1521</td>\n",
       "      <td>Conservative</td>\n",
       "      <td>67</td>\n",
       "      <td>5</td>\n",
       "      <td>3</td>\n",
       "      <td>2</td>\n",
       "      <td>4</td>\n",
       "      <td>11</td>\n",
       "      <td>3</td>\n",
       "      <td>male</td>\n",
       "    </tr>\n",
       "    <tr>\n",
       "      <td>1521</td>\n",
       "      <td>1522</td>\n",
       "      <td>Conservative</td>\n",
       "      <td>73</td>\n",
       "      <td>2</td>\n",
       "      <td>2</td>\n",
       "      <td>4</td>\n",
       "      <td>4</td>\n",
       "      <td>8</td>\n",
       "      <td>2</td>\n",
       "      <td>male</td>\n",
       "    </tr>\n",
       "    <tr>\n",
       "      <td>1522</td>\n",
       "      <td>1523</td>\n",
       "      <td>Labour</td>\n",
       "      <td>37</td>\n",
       "      <td>3</td>\n",
       "      <td>3</td>\n",
       "      <td>5</td>\n",
       "      <td>4</td>\n",
       "      <td>2</td>\n",
       "      <td>2</td>\n",
       "      <td>male</td>\n",
       "    </tr>\n",
       "    <tr>\n",
       "      <td>1523</td>\n",
       "      <td>1524</td>\n",
       "      <td>Conservative</td>\n",
       "      <td>61</td>\n",
       "      <td>3</td>\n",
       "      <td>3</td>\n",
       "      <td>1</td>\n",
       "      <td>4</td>\n",
       "      <td>11</td>\n",
       "      <td>2</td>\n",
       "      <td>male</td>\n",
       "    </tr>\n",
       "    <tr>\n",
       "      <td>1524</td>\n",
       "      <td>1525</td>\n",
       "      <td>Conservative</td>\n",
       "      <td>74</td>\n",
       "      <td>2</td>\n",
       "      <td>3</td>\n",
       "      <td>2</td>\n",
       "      <td>4</td>\n",
       "      <td>11</td>\n",
       "      <td>0</td>\n",
       "      <td>female</td>\n",
       "    </tr>\n",
       "  </tbody>\n",
       "</table>\n",
       "<p>1525 rows × 10 columns</p>\n",
       "</div>"
      ],
      "text/plain": [
       "      Unnamed: 0          vote  age  economic.cond.national  \\\n",
       "0              1        Labour   43                       3   \n",
       "1              2        Labour   36                       4   \n",
       "2              3        Labour   35                       4   \n",
       "3              4        Labour   24                       4   \n",
       "4              5        Labour   41                       2   \n",
       "...          ...           ...  ...                     ...   \n",
       "1520        1521  Conservative   67                       5   \n",
       "1521        1522  Conservative   73                       2   \n",
       "1522        1523        Labour   37                       3   \n",
       "1523        1524  Conservative   61                       3   \n",
       "1524        1525  Conservative   74                       2   \n",
       "\n",
       "      economic.cond.household  Blair  Hague  Europe  political.knowledge  \\\n",
       "0                           3      4      1       2                    2   \n",
       "1                           4      4      4       5                    2   \n",
       "2                           4      5      2       3                    2   \n",
       "3                           2      2      1       4                    0   \n",
       "4                           2      1      1       6                    2   \n",
       "...                       ...    ...    ...     ...                  ...   \n",
       "1520                        3      2      4      11                    3   \n",
       "1521                        2      4      4       8                    2   \n",
       "1522                        3      5      4       2                    2   \n",
       "1523                        3      1      4      11                    2   \n",
       "1524                        3      2      4      11                    0   \n",
       "\n",
       "      gender  \n",
       "0     female  \n",
       "1       male  \n",
       "2       male  \n",
       "3     female  \n",
       "4       male  \n",
       "...      ...  \n",
       "1520    male  \n",
       "1521    male  \n",
       "1522    male  \n",
       "1523    male  \n",
       "1524  female  \n",
       "\n",
       "[1525 rows x 10 columns]"
      ]
     },
     "execution_count": 421,
     "metadata": {},
     "output_type": "execute_result"
    }
   ],
   "source": [
    "Election"
   ]
  },
  {
   "cell_type": "code",
   "execution_count": 422,
   "metadata": {},
   "outputs": [],
   "source": [
    "Exit_Polls = Election.drop(columns=['Unnamed: 0'])"
   ]
  },
  {
   "cell_type": "code",
   "execution_count": 423,
   "metadata": {},
   "outputs": [
    {
     "data": {
      "text/html": [
       "<div>\n",
       "<style scoped>\n",
       "    .dataframe tbody tr th:only-of-type {\n",
       "        vertical-align: middle;\n",
       "    }\n",
       "\n",
       "    .dataframe tbody tr th {\n",
       "        vertical-align: top;\n",
       "    }\n",
       "\n",
       "    .dataframe thead th {\n",
       "        text-align: right;\n",
       "    }\n",
       "</style>\n",
       "<table border=\"1\" class=\"dataframe\">\n",
       "  <thead>\n",
       "    <tr style=\"text-align: right;\">\n",
       "      <th></th>\n",
       "      <th>vote</th>\n",
       "      <th>age</th>\n",
       "      <th>economic.cond.national</th>\n",
       "      <th>economic.cond.household</th>\n",
       "      <th>Blair</th>\n",
       "      <th>Hague</th>\n",
       "      <th>Europe</th>\n",
       "      <th>political.knowledge</th>\n",
       "      <th>gender</th>\n",
       "    </tr>\n",
       "  </thead>\n",
       "  <tbody>\n",
       "    <tr>\n",
       "      <td>0</td>\n",
       "      <td>Labour</td>\n",
       "      <td>43</td>\n",
       "      <td>3</td>\n",
       "      <td>3</td>\n",
       "      <td>4</td>\n",
       "      <td>1</td>\n",
       "      <td>2</td>\n",
       "      <td>2</td>\n",
       "      <td>female</td>\n",
       "    </tr>\n",
       "    <tr>\n",
       "      <td>1</td>\n",
       "      <td>Labour</td>\n",
       "      <td>36</td>\n",
       "      <td>4</td>\n",
       "      <td>4</td>\n",
       "      <td>4</td>\n",
       "      <td>4</td>\n",
       "      <td>5</td>\n",
       "      <td>2</td>\n",
       "      <td>male</td>\n",
       "    </tr>\n",
       "    <tr>\n",
       "      <td>2</td>\n",
       "      <td>Labour</td>\n",
       "      <td>35</td>\n",
       "      <td>4</td>\n",
       "      <td>4</td>\n",
       "      <td>5</td>\n",
       "      <td>2</td>\n",
       "      <td>3</td>\n",
       "      <td>2</td>\n",
       "      <td>male</td>\n",
       "    </tr>\n",
       "    <tr>\n",
       "      <td>3</td>\n",
       "      <td>Labour</td>\n",
       "      <td>24</td>\n",
       "      <td>4</td>\n",
       "      <td>2</td>\n",
       "      <td>2</td>\n",
       "      <td>1</td>\n",
       "      <td>4</td>\n",
       "      <td>0</td>\n",
       "      <td>female</td>\n",
       "    </tr>\n",
       "    <tr>\n",
       "      <td>4</td>\n",
       "      <td>Labour</td>\n",
       "      <td>41</td>\n",
       "      <td>2</td>\n",
       "      <td>2</td>\n",
       "      <td>1</td>\n",
       "      <td>1</td>\n",
       "      <td>6</td>\n",
       "      <td>2</td>\n",
       "      <td>male</td>\n",
       "    </tr>\n",
       "    <tr>\n",
       "      <td>...</td>\n",
       "      <td>...</td>\n",
       "      <td>...</td>\n",
       "      <td>...</td>\n",
       "      <td>...</td>\n",
       "      <td>...</td>\n",
       "      <td>...</td>\n",
       "      <td>...</td>\n",
       "      <td>...</td>\n",
       "      <td>...</td>\n",
       "    </tr>\n",
       "    <tr>\n",
       "      <td>1520</td>\n",
       "      <td>Conservative</td>\n",
       "      <td>67</td>\n",
       "      <td>5</td>\n",
       "      <td>3</td>\n",
       "      <td>2</td>\n",
       "      <td>4</td>\n",
       "      <td>11</td>\n",
       "      <td>3</td>\n",
       "      <td>male</td>\n",
       "    </tr>\n",
       "    <tr>\n",
       "      <td>1521</td>\n",
       "      <td>Conservative</td>\n",
       "      <td>73</td>\n",
       "      <td>2</td>\n",
       "      <td>2</td>\n",
       "      <td>4</td>\n",
       "      <td>4</td>\n",
       "      <td>8</td>\n",
       "      <td>2</td>\n",
       "      <td>male</td>\n",
       "    </tr>\n",
       "    <tr>\n",
       "      <td>1522</td>\n",
       "      <td>Labour</td>\n",
       "      <td>37</td>\n",
       "      <td>3</td>\n",
       "      <td>3</td>\n",
       "      <td>5</td>\n",
       "      <td>4</td>\n",
       "      <td>2</td>\n",
       "      <td>2</td>\n",
       "      <td>male</td>\n",
       "    </tr>\n",
       "    <tr>\n",
       "      <td>1523</td>\n",
       "      <td>Conservative</td>\n",
       "      <td>61</td>\n",
       "      <td>3</td>\n",
       "      <td>3</td>\n",
       "      <td>1</td>\n",
       "      <td>4</td>\n",
       "      <td>11</td>\n",
       "      <td>2</td>\n",
       "      <td>male</td>\n",
       "    </tr>\n",
       "    <tr>\n",
       "      <td>1524</td>\n",
       "      <td>Conservative</td>\n",
       "      <td>74</td>\n",
       "      <td>2</td>\n",
       "      <td>3</td>\n",
       "      <td>2</td>\n",
       "      <td>4</td>\n",
       "      <td>11</td>\n",
       "      <td>0</td>\n",
       "      <td>female</td>\n",
       "    </tr>\n",
       "  </tbody>\n",
       "</table>\n",
       "<p>1525 rows × 9 columns</p>\n",
       "</div>"
      ],
      "text/plain": [
       "              vote  age  economic.cond.national  economic.cond.household  \\\n",
       "0           Labour   43                       3                        3   \n",
       "1           Labour   36                       4                        4   \n",
       "2           Labour   35                       4                        4   \n",
       "3           Labour   24                       4                        2   \n",
       "4           Labour   41                       2                        2   \n",
       "...            ...  ...                     ...                      ...   \n",
       "1520  Conservative   67                       5                        3   \n",
       "1521  Conservative   73                       2                        2   \n",
       "1522        Labour   37                       3                        3   \n",
       "1523  Conservative   61                       3                        3   \n",
       "1524  Conservative   74                       2                        3   \n",
       "\n",
       "      Blair  Hague  Europe  political.knowledge  gender  \n",
       "0         4      1       2                    2  female  \n",
       "1         4      4       5                    2    male  \n",
       "2         5      2       3                    2    male  \n",
       "3         2      1       4                    0  female  \n",
       "4         1      1       6                    2    male  \n",
       "...     ...    ...     ...                  ...     ...  \n",
       "1520      2      4      11                    3    male  \n",
       "1521      4      4       8                    2    male  \n",
       "1522      5      4       2                    2    male  \n",
       "1523      1      4      11                    2    male  \n",
       "1524      2      4      11                    0  female  \n",
       "\n",
       "[1525 rows x 9 columns]"
      ]
     },
     "execution_count": 423,
     "metadata": {},
     "output_type": "execute_result"
    }
   ],
   "source": [
    "Exit_Polls"
   ]
  },
  {
   "cell_type": "code",
   "execution_count": 424,
   "metadata": {},
   "outputs": [
    {
     "name": "stdout",
     "output_type": "stream",
     "text": [
      "<class 'pandas.core.frame.DataFrame'>\n",
      "RangeIndex: 1525 entries, 0 to 1524\n",
      "Data columns (total 9 columns):\n",
      "vote                       1525 non-null object\n",
      "age                        1525 non-null int64\n",
      "economic.cond.national     1525 non-null int64\n",
      "economic.cond.household    1525 non-null int64\n",
      "Blair                      1525 non-null int64\n",
      "Hague                      1525 non-null int64\n",
      "Europe                     1525 non-null int64\n",
      "political.knowledge        1525 non-null int64\n",
      "gender                     1525 non-null object\n",
      "dtypes: int64(7), object(2)\n",
      "memory usage: 107.4+ KB\n"
     ]
    }
   ],
   "source": [
    "Exit_Polls.info()"
   ]
  },
  {
   "cell_type": "code",
   "execution_count": 425,
   "metadata": {},
   "outputs": [
    {
     "name": "stdout",
     "output_type": "stream",
     "text": [
      "Number of duplicate rows = 8\n"
     ]
    }
   ],
   "source": [
    "# Are there any duplicates ?\n",
    "df = Exit_Polls.duplicated()\n",
    "print('Number of duplicate rows = %d' % (df.sum()))\n",
    "#df[dups]"
   ]
  },
  {
   "cell_type": "code",
   "execution_count": 426,
   "metadata": {},
   "outputs": [
    {
     "name": "stdout",
     "output_type": "stream",
     "text": [
      "Before (1525, 9)\n",
      "After (1517, 9)\n"
     ]
    }
   ],
   "source": [
    "print('Before',Exit_Polls.shape)\n",
    "Exit_Polls.drop_duplicates(inplace=True) \n",
    "print('After',Exit_Polls.shape)"
   ]
  },
  {
   "cell_type": "code",
   "execution_count": 427,
   "metadata": {},
   "outputs": [
    {
     "data": {
      "text/html": [
       "<div>\n",
       "<style scoped>\n",
       "    .dataframe tbody tr th:only-of-type {\n",
       "        vertical-align: middle;\n",
       "    }\n",
       "\n",
       "    .dataframe tbody tr th {\n",
       "        vertical-align: top;\n",
       "    }\n",
       "\n",
       "    .dataframe thead th {\n",
       "        text-align: right;\n",
       "    }\n",
       "</style>\n",
       "<table border=\"1\" class=\"dataframe\">\n",
       "  <thead>\n",
       "    <tr style=\"text-align: right;\">\n",
       "      <th></th>\n",
       "      <th>vote</th>\n",
       "      <th>age</th>\n",
       "      <th>economic.cond.national</th>\n",
       "      <th>economic.cond.household</th>\n",
       "      <th>Blair</th>\n",
       "      <th>Hague</th>\n",
       "      <th>Europe</th>\n",
       "      <th>political.knowledge</th>\n",
       "      <th>gender</th>\n",
       "    </tr>\n",
       "  </thead>\n",
       "  <tbody>\n",
       "  </tbody>\n",
       "</table>\n",
       "</div>"
      ],
      "text/plain": [
       "Empty DataFrame\n",
       "Columns: [vote, age, economic.cond.national, economic.cond.household, Blair, Hague, Europe, political.knowledge, gender]\n",
       "Index: []"
      ]
     },
     "execution_count": 427,
     "metadata": {},
     "output_type": "execute_result"
    }
   ],
   "source": [
    "Exit_Polls[Exit_Polls.isnull().any(axis=1)]\n",
    "#No Null"
   ]
  },
  {
   "cell_type": "code",
   "execution_count": 428,
   "metadata": {},
   "outputs": [
    {
     "data": {
      "text/plain": [
       "vote                       0\n",
       "age                        0\n",
       "economic.cond.national     0\n",
       "economic.cond.household    0\n",
       "Blair                      0\n",
       "Hague                      0\n",
       "Europe                     0\n",
       "dtype: int64"
      ]
     },
     "execution_count": 428,
     "metadata": {},
     "output_type": "execute_result"
    }
   ],
   "source": [
    "(Exit_Polls[[\"vote\",\"age\",\"economic.cond.national\",\"economic.cond.household\",\"Blair\",\"Hague\",\"Europe\"]] == 0).sum()\n",
    "#No zero"
   ]
  },
  {
   "cell_type": "code",
   "execution_count": 429,
   "metadata": {},
   "outputs": [
    {
     "data": {
      "text/html": [
       "<div>\n",
       "<style scoped>\n",
       "    .dataframe tbody tr th:only-of-type {\n",
       "        vertical-align: middle;\n",
       "    }\n",
       "\n",
       "    .dataframe tbody tr th {\n",
       "        vertical-align: top;\n",
       "    }\n",
       "\n",
       "    .dataframe thead th {\n",
       "        text-align: right;\n",
       "    }\n",
       "</style>\n",
       "<table border=\"1\" class=\"dataframe\">\n",
       "  <thead>\n",
       "    <tr style=\"text-align: right;\">\n",
       "      <th></th>\n",
       "      <th>age</th>\n",
       "      <th>economic.cond.national</th>\n",
       "      <th>economic.cond.household</th>\n",
       "      <th>Blair</th>\n",
       "      <th>Hague</th>\n",
       "      <th>Europe</th>\n",
       "      <th>political.knowledge</th>\n",
       "    </tr>\n",
       "  </thead>\n",
       "  <tbody>\n",
       "    <tr>\n",
       "      <td>count</td>\n",
       "      <td>1517.000000</td>\n",
       "      <td>1517.000000</td>\n",
       "      <td>1517.000000</td>\n",
       "      <td>1517.000000</td>\n",
       "      <td>1517.000000</td>\n",
       "      <td>1517.000000</td>\n",
       "      <td>1517.000000</td>\n",
       "    </tr>\n",
       "    <tr>\n",
       "      <td>mean</td>\n",
       "      <td>54.241266</td>\n",
       "      <td>3.245221</td>\n",
       "      <td>3.137772</td>\n",
       "      <td>3.335531</td>\n",
       "      <td>2.749506</td>\n",
       "      <td>6.740277</td>\n",
       "      <td>1.540541</td>\n",
       "    </tr>\n",
       "    <tr>\n",
       "      <td>std</td>\n",
       "      <td>15.701741</td>\n",
       "      <td>0.881792</td>\n",
       "      <td>0.931069</td>\n",
       "      <td>1.174772</td>\n",
       "      <td>1.232479</td>\n",
       "      <td>3.299043</td>\n",
       "      <td>1.084417</td>\n",
       "    </tr>\n",
       "    <tr>\n",
       "      <td>min</td>\n",
       "      <td>24.000000</td>\n",
       "      <td>1.000000</td>\n",
       "      <td>1.000000</td>\n",
       "      <td>1.000000</td>\n",
       "      <td>1.000000</td>\n",
       "      <td>1.000000</td>\n",
       "      <td>0.000000</td>\n",
       "    </tr>\n",
       "    <tr>\n",
       "      <td>25%</td>\n",
       "      <td>41.000000</td>\n",
       "      <td>3.000000</td>\n",
       "      <td>3.000000</td>\n",
       "      <td>2.000000</td>\n",
       "      <td>2.000000</td>\n",
       "      <td>4.000000</td>\n",
       "      <td>0.000000</td>\n",
       "    </tr>\n",
       "    <tr>\n",
       "      <td>50%</td>\n",
       "      <td>53.000000</td>\n",
       "      <td>3.000000</td>\n",
       "      <td>3.000000</td>\n",
       "      <td>4.000000</td>\n",
       "      <td>2.000000</td>\n",
       "      <td>6.000000</td>\n",
       "      <td>2.000000</td>\n",
       "    </tr>\n",
       "    <tr>\n",
       "      <td>75%</td>\n",
       "      <td>67.000000</td>\n",
       "      <td>4.000000</td>\n",
       "      <td>4.000000</td>\n",
       "      <td>4.000000</td>\n",
       "      <td>4.000000</td>\n",
       "      <td>10.000000</td>\n",
       "      <td>2.000000</td>\n",
       "    </tr>\n",
       "    <tr>\n",
       "      <td>max</td>\n",
       "      <td>93.000000</td>\n",
       "      <td>5.000000</td>\n",
       "      <td>5.000000</td>\n",
       "      <td>5.000000</td>\n",
       "      <td>5.000000</td>\n",
       "      <td>11.000000</td>\n",
       "      <td>3.000000</td>\n",
       "    </tr>\n",
       "  </tbody>\n",
       "</table>\n",
       "</div>"
      ],
      "text/plain": [
       "               age  economic.cond.national  economic.cond.household  \\\n",
       "count  1517.000000             1517.000000              1517.000000   \n",
       "mean     54.241266                3.245221                 3.137772   \n",
       "std      15.701741                0.881792                 0.931069   \n",
       "min      24.000000                1.000000                 1.000000   \n",
       "25%      41.000000                3.000000                 3.000000   \n",
       "50%      53.000000                3.000000                 3.000000   \n",
       "75%      67.000000                4.000000                 4.000000   \n",
       "max      93.000000                5.000000                 5.000000   \n",
       "\n",
       "             Blair        Hague       Europe  political.knowledge  \n",
       "count  1517.000000  1517.000000  1517.000000          1517.000000  \n",
       "mean      3.335531     2.749506     6.740277             1.540541  \n",
       "std       1.174772     1.232479     3.299043             1.084417  \n",
       "min       1.000000     1.000000     1.000000             0.000000  \n",
       "25%       2.000000     2.000000     4.000000             0.000000  \n",
       "50%       4.000000     2.000000     6.000000             2.000000  \n",
       "75%       4.000000     4.000000    10.000000             2.000000  \n",
       "max       5.000000     5.000000    11.000000             3.000000  "
      ]
     },
     "execution_count": 429,
     "metadata": {},
     "output_type": "execute_result"
    }
   ],
   "source": [
    "Exit_Polls.describe()"
   ]
  },
  {
   "cell_type": "code",
   "execution_count": 430,
   "metadata": {},
   "outputs": [
    {
     "data": {
      "text/plain": [
       "Labour          1057\n",
       "Conservative     460\n",
       "Name: vote, dtype: int64"
      ]
     },
     "execution_count": 430,
     "metadata": {},
     "output_type": "execute_result"
    }
   ],
   "source": [
    "Exit_Polls[\"vote\"].value_counts()"
   ]
  },
  {
   "cell_type": "markdown",
   "metadata": {},
   "source": [
    "# Converting all objects to categorical codes"
   ]
  },
  {
   "cell_type": "code",
   "execution_count": 431,
   "metadata": {},
   "outputs": [],
   "source": [
    "Exit_Polls['gender'] = Exit_Polls['gender'].replace({'male': 1, 'female':2})"
   ]
  },
  {
   "cell_type": "code",
   "execution_count": 432,
   "metadata": {},
   "outputs": [
    {
     "data": {
      "text/plain": [
       "Labour          1057\n",
       "Conservative     460\n",
       "Name: vote, dtype: int64"
      ]
     },
     "execution_count": 432,
     "metadata": {},
     "output_type": "execute_result"
    }
   ],
   "source": [
    "Exit_Polls['vote'].value_counts()\n",
    "#Highly Imbalanced Dataset in favour of Labour Party"
   ]
  },
  {
   "cell_type": "code",
   "execution_count": 433,
   "metadata": {},
   "outputs": [],
   "source": [
    "Exit_Polls['vote'] = Exit_Polls['vote'].replace({'Labour': 1, 'Conservative':2})"
   ]
  },
  {
   "cell_type": "code",
   "execution_count": 434,
   "metadata": {},
   "outputs": [
    {
     "name": "stdout",
     "output_type": "stream",
     "text": [
      "<class 'pandas.core.frame.DataFrame'>\n",
      "Int64Index: 1517 entries, 0 to 1524\n",
      "Data columns (total 9 columns):\n",
      "vote                       1517 non-null int64\n",
      "age                        1517 non-null int64\n",
      "economic.cond.national     1517 non-null int64\n",
      "economic.cond.household    1517 non-null int64\n",
      "Blair                      1517 non-null int64\n",
      "Hague                      1517 non-null int64\n",
      "Europe                     1517 non-null int64\n",
      "political.knowledge        1517 non-null int64\n",
      "gender                     1517 non-null int64\n",
      "dtypes: int64(9)\n",
      "memory usage: 118.5 KB\n"
     ]
    }
   ],
   "source": [
    "Exit_Polls.info()"
   ]
  },
  {
   "cell_type": "markdown",
   "metadata": {},
   "source": [
    "# Treating Outliers"
   ]
  },
  {
   "cell_type": "code",
   "execution_count": 435,
   "metadata": {},
   "outputs": [],
   "source": [
    "def remove_outlier(col):\n",
    "    sorted(col)\n",
    "    Q1,Q3=np.percentile(col,[25,75])\n",
    "    IQR=Q3-Q1\n",
    "    lower_range= Q1-(1.5 * IQR)\n",
    "    upper_range= Q3+(1.5 * IQR)\n",
    "    return lower_range, upper_range"
   ]
  },
  {
   "cell_type": "code",
   "execution_count": 436,
   "metadata": {},
   "outputs": [],
   "source": [
    "for column in Exit_Polls.columns:\n",
    "    if Exit_Polls[column].dtype != 'object': \n",
    "        lr,ur=remove_outlier(Exit_Polls[column])\n",
    "        Exit_Polls[column]=np.where(Exit_Polls[column]>ur,ur,Exit_Polls[column])\n",
    "        Exit_Polls[column]=np.where(Exit_Polls[column]<lr,lr,Exit_Polls[column])"
   ]
  },
  {
   "cell_type": "markdown",
   "metadata": {},
   "source": [
    "# Univariate Analysis"
   ]
  },
  {
   "cell_type": "code",
   "execution_count": 437,
   "metadata": {},
   "outputs": [
    {
     "data": {
      "text/html": [
       "<div>\n",
       "<style scoped>\n",
       "    .dataframe tbody tr th:only-of-type {\n",
       "        vertical-align: middle;\n",
       "    }\n",
       "\n",
       "    .dataframe tbody tr th {\n",
       "        vertical-align: top;\n",
       "    }\n",
       "\n",
       "    .dataframe thead th {\n",
       "        text-align: right;\n",
       "    }\n",
       "</style>\n",
       "<table border=\"1\" class=\"dataframe\">\n",
       "  <thead>\n",
       "    <tr style=\"text-align: right;\">\n",
       "      <th></th>\n",
       "      <th>vote</th>\n",
       "      <th>age</th>\n",
       "      <th>economic.cond.national</th>\n",
       "      <th>economic.cond.household</th>\n",
       "      <th>Blair</th>\n",
       "      <th>Hague</th>\n",
       "      <th>Europe</th>\n",
       "      <th>political.knowledge</th>\n",
       "      <th>gender</th>\n",
       "    </tr>\n",
       "  </thead>\n",
       "  <tbody>\n",
       "    <tr>\n",
       "      <td>count</td>\n",
       "      <td>1517.000000</td>\n",
       "      <td>1517.000000</td>\n",
       "      <td>1517.000000</td>\n",
       "      <td>1517.000000</td>\n",
       "      <td>1517.000000</td>\n",
       "      <td>1517.000000</td>\n",
       "      <td>1517.000000</td>\n",
       "      <td>1517.000000</td>\n",
       "      <td>1517.000000</td>\n",
       "    </tr>\n",
       "    <tr>\n",
       "      <td>mean</td>\n",
       "      <td>1.303230</td>\n",
       "      <td>54.241266</td>\n",
       "      <td>3.257416</td>\n",
       "      <td>3.159196</td>\n",
       "      <td>3.335531</td>\n",
       "      <td>2.749506</td>\n",
       "      <td>6.740277</td>\n",
       "      <td>1.540541</td>\n",
       "      <td>1.532630</td>\n",
       "    </tr>\n",
       "    <tr>\n",
       "      <td>std</td>\n",
       "      <td>0.459805</td>\n",
       "      <td>15.701741</td>\n",
       "      <td>0.853647</td>\n",
       "      <td>0.886279</td>\n",
       "      <td>1.174772</td>\n",
       "      <td>1.232479</td>\n",
       "      <td>3.299043</td>\n",
       "      <td>1.084417</td>\n",
       "      <td>0.499099</td>\n",
       "    </tr>\n",
       "    <tr>\n",
       "      <td>min</td>\n",
       "      <td>1.000000</td>\n",
       "      <td>24.000000</td>\n",
       "      <td>1.500000</td>\n",
       "      <td>1.500000</td>\n",
       "      <td>1.000000</td>\n",
       "      <td>1.000000</td>\n",
       "      <td>1.000000</td>\n",
       "      <td>0.000000</td>\n",
       "      <td>1.000000</td>\n",
       "    </tr>\n",
       "    <tr>\n",
       "      <td>25%</td>\n",
       "      <td>1.000000</td>\n",
       "      <td>41.000000</td>\n",
       "      <td>3.000000</td>\n",
       "      <td>3.000000</td>\n",
       "      <td>2.000000</td>\n",
       "      <td>2.000000</td>\n",
       "      <td>4.000000</td>\n",
       "      <td>0.000000</td>\n",
       "      <td>1.000000</td>\n",
       "    </tr>\n",
       "    <tr>\n",
       "      <td>50%</td>\n",
       "      <td>1.000000</td>\n",
       "      <td>53.000000</td>\n",
       "      <td>3.000000</td>\n",
       "      <td>3.000000</td>\n",
       "      <td>4.000000</td>\n",
       "      <td>2.000000</td>\n",
       "      <td>6.000000</td>\n",
       "      <td>2.000000</td>\n",
       "      <td>2.000000</td>\n",
       "    </tr>\n",
       "    <tr>\n",
       "      <td>75%</td>\n",
       "      <td>2.000000</td>\n",
       "      <td>67.000000</td>\n",
       "      <td>4.000000</td>\n",
       "      <td>4.000000</td>\n",
       "      <td>4.000000</td>\n",
       "      <td>4.000000</td>\n",
       "      <td>10.000000</td>\n",
       "      <td>2.000000</td>\n",
       "      <td>2.000000</td>\n",
       "    </tr>\n",
       "    <tr>\n",
       "      <td>max</td>\n",
       "      <td>2.000000</td>\n",
       "      <td>93.000000</td>\n",
       "      <td>5.000000</td>\n",
       "      <td>5.000000</td>\n",
       "      <td>5.000000</td>\n",
       "      <td>5.000000</td>\n",
       "      <td>11.000000</td>\n",
       "      <td>3.000000</td>\n",
       "      <td>2.000000</td>\n",
       "    </tr>\n",
       "  </tbody>\n",
       "</table>\n",
       "</div>"
      ],
      "text/plain": [
       "              vote          age  economic.cond.national  \\\n",
       "count  1517.000000  1517.000000             1517.000000   \n",
       "mean      1.303230    54.241266                3.257416   \n",
       "std       0.459805    15.701741                0.853647   \n",
       "min       1.000000    24.000000                1.500000   \n",
       "25%       1.000000    41.000000                3.000000   \n",
       "50%       1.000000    53.000000                3.000000   \n",
       "75%       2.000000    67.000000                4.000000   \n",
       "max       2.000000    93.000000                5.000000   \n",
       "\n",
       "       economic.cond.household        Blair        Hague       Europe  \\\n",
       "count              1517.000000  1517.000000  1517.000000  1517.000000   \n",
       "mean                  3.159196     3.335531     2.749506     6.740277   \n",
       "std                   0.886279     1.174772     1.232479     3.299043   \n",
       "min                   1.500000     1.000000     1.000000     1.000000   \n",
       "25%                   3.000000     2.000000     2.000000     4.000000   \n",
       "50%                   3.000000     4.000000     2.000000     6.000000   \n",
       "75%                   4.000000     4.000000     4.000000    10.000000   \n",
       "max                   5.000000     5.000000     5.000000    11.000000   \n",
       "\n",
       "       political.knowledge       gender  \n",
       "count          1517.000000  1517.000000  \n",
       "mean              1.540541     1.532630  \n",
       "std               1.084417     0.499099  \n",
       "min               0.000000     1.000000  \n",
       "25%               0.000000     1.000000  \n",
       "50%               2.000000     2.000000  \n",
       "75%               2.000000     2.000000  \n",
       "max               3.000000     2.000000  "
      ]
     },
     "execution_count": 437,
     "metadata": {},
     "output_type": "execute_result"
    }
   ],
   "source": [
    "Exit_Polls.describe()"
   ]
  },
  {
   "cell_type": "code",
   "execution_count": 438,
   "metadata": {},
   "outputs": [
    {
     "name": "stdout",
     "output_type": "stream",
     "text": [
      "<class 'pandas.core.frame.DataFrame'>\n",
      "Int64Index: 1517 entries, 0 to 1524\n",
      "Data columns (total 9 columns):\n",
      "vote                       1517 non-null float64\n",
      "age                        1517 non-null float64\n",
      "economic.cond.national     1517 non-null float64\n",
      "economic.cond.household    1517 non-null float64\n",
      "Blair                      1517 non-null float64\n",
      "Hague                      1517 non-null float64\n",
      "Europe                     1517 non-null float64\n",
      "political.knowledge        1517 non-null float64\n",
      "gender                     1517 non-null float64\n",
      "dtypes: float64(9)\n",
      "memory usage: 118.5 KB\n"
     ]
    }
   ],
   "source": [
    "Exit_Polls.info()"
   ]
  },
  {
   "cell_type": "code",
   "execution_count": 439,
   "metadata": {},
   "outputs": [
    {
     "data": {
      "text/plain": [
       "<matplotlib.axes._subplots.AxesSubplot at 0x200510bb7c8>"
      ]
     },
     "execution_count": 439,
     "metadata": {},
     "output_type": "execute_result"
    },
    {
     "data": {
      "image/png": "[encoded data removed]",
      "text/plain": [
       "<Figure size 432x288 with 1 Axes>"
      ]
     },
     "metadata": {
      "needs_background": "light"
     },
     "output_type": "display_data"
    }
   ],
   "source": [
    "sns.countplot(Exit_Polls['vote'])"
   ]
  },
  {
   "cell_type": "code",
   "execution_count": 440,
   "metadata": {},
   "outputs": [
    {
     "data": {
      "text/plain": [
       "<matplotlib.axes._subplots.AxesSubplot at 0x20050fa5c88>"
      ]
     },
     "execution_count": 440,
     "metadata": {},
     "output_type": "execute_result"
    },
    {
     "data": {
      "image/png": "[encoded data removed]",
      "text/plain": [
       "<Figure size 432x288 with 1 Axes>"
      ]
     },
     "metadata": {
      "needs_background": "light"
     },
     "output_type": "display_data"
    }
   ],
   "source": [
    "sns.violinplot(y=Exit_Polls['age'],x=Exit_Polls['vote'])"
   ]
  },
  {
   "cell_type": "code",
   "execution_count": 441,
   "metadata": {},
   "outputs": [
    {
     "data": {
      "image/png": "[encoded data removed]",
      "text/plain": [
       "<Figure size 1080x2736 with 14 Axes>"
      ]
     },
     "metadata": {
      "needs_background": "light"
     },
     "output_type": "display_data"
    }
   ],
   "source": [
    "fig, axes = plt.subplots(nrows=7,ncols=2)\n",
    "fig.set_size_inches(15, 38)\n",
    "\n",
    "a = sns.distplot(Exit_Polls['age'] , ax=axes[0][0])\n",
    "a.set_title(\"age\",fontsize=15)\n",
    "a = sns.boxplot(Exit_Polls['age'] , orient = \"v\" , ax=axes[0][1])\n",
    "a.set_title(\"age\",fontsize=15)\n",
    "\n",
    "a = sns.distplot(Exit_Polls['economic.cond.national'] , ax=axes[1][0])\n",
    "a.set_title(\"economic.cond.national\",fontsize=15)\n",
    "a = sns.boxplot(Exit_Polls['economic.cond.national'] , orient = \"v\" , ax=axes[1][1])\n",
    "a.set_title(\"economic.cond.national\",fontsize=15)\n",
    "\n",
    "a = sns.distplot(Exit_Polls['economic.cond.household'] , ax=axes[2][0])\n",
    "a.set_title(\"economic.cond.household\",fontsize=15)\n",
    "a = sns.boxplot(Exit_Polls['economic.cond.household'] , orient = \"v\" , ax=axes[2][1])\n",
    "a.set_title(\"economic.cond.household\",fontsize=15)\n",
    "\n",
    "\n",
    "a = sns.distplot(Exit_Polls['Blair'] , ax=axes[3][0])\n",
    "a.set_title(\"Blair\",fontsize=15)\n",
    "a = sns.boxplot(Exit_Polls['Blair'] , orient = \"v\" , ax=axes[3][1])\n",
    "a.set_title(\"Blair\",fontsize=15)\n",
    "\n",
    "a = sns.distplot(Exit_Polls['Hague'] , ax=axes[4][0])\n",
    "a.set_title(\"Hague\",fontsize=15)\n",
    "a = sns.boxplot(Exit_Polls['Hague'] , orient = \"v\" , ax=axes[4][1])\n",
    "a.set_title(\"Hague\",fontsize=15)\n",
    "\n",
    "a = sns.distplot(Exit_Polls['Europe'] , ax=axes[5][0])\n",
    "a.set_title(\"Europe\",fontsize=15)\n",
    "a = sns.boxplot(Exit_Polls['Europe'] , orient = \"v\" , ax=axes[5][1])\n",
    "a.set_title(\"Europe\",fontsize=15)\n",
    "\n",
    "a = sns.distplot(Exit_Polls['political.knowledge'] , ax=axes[6][0])\n",
    "a.set_title(\"political.knowledge\",fontsize=15)\n",
    "a = sns.boxplot(Exit_Polls['political.knowledge'] , orient = \"v\" , ax=axes[6][1])\n",
    "a.set_title(\"political.knowledge\",fontsize=15)\n",
    "\n",
    "\n",
    "plt.show()\n",
    "\n",
    "\n",
    "#Outliers are present as histograms & Boxplots indicate "
   ]
  },
  {
   "cell_type": "markdown",
   "metadata": {},
   "source": [
    "# Bivariate Analysis"
   ]
  },
  {
   "cell_type": "code",
   "execution_count": 442,
   "metadata": {},
   "outputs": [
    {
     "data": {
      "text/plain": [
       "<seaborn.axisgrid.PairGrid at 0x200510d7508>"
      ]
     },
     "execution_count": 442,
     "metadata": {},
     "output_type": "execute_result"
    },
    {
     "data": {
      "image/png": "[encoded data removed]",
      "text/plain": [
       "<Figure size 1620x1620 with 90 Axes>"
      ]
     },
     "metadata": {
      "needs_background": "light"
     },
     "output_type": "display_data"
    }
   ],
   "source": [
    "#Let us check for pair plots\n",
    "sns.pairplot(Exit_Polls,diag_kind='kde')"
   ]
  },
  {
   "cell_type": "code",
   "execution_count": 443,
   "metadata": {},
   "outputs": [
    {
     "data": {
      "text/html": [
       "<div>\n",
       "<style scoped>\n",
       "    .dataframe tbody tr th:only-of-type {\n",
       "        vertical-align: middle;\n",
       "    }\n",
       "\n",
       "    .dataframe tbody tr th {\n",
       "        vertical-align: top;\n",
       "    }\n",
       "\n",
       "    .dataframe thead th {\n",
       "        text-align: right;\n",
       "    }\n",
       "</style>\n",
       "<table border=\"1\" class=\"dataframe\">\n",
       "  <thead>\n",
       "    <tr style=\"text-align: right;\">\n",
       "      <th></th>\n",
       "      <th>vote</th>\n",
       "      <th>age</th>\n",
       "      <th>economic.cond.national</th>\n",
       "      <th>economic.cond.household</th>\n",
       "      <th>Blair</th>\n",
       "      <th>Hague</th>\n",
       "      <th>Europe</th>\n",
       "      <th>political.knowledge</th>\n",
       "      <th>gender</th>\n",
       "    </tr>\n",
       "  </thead>\n",
       "  <tbody>\n",
       "    <tr>\n",
       "      <td>vote</td>\n",
       "      <td>1.000000</td>\n",
       "      <td>0.109274</td>\n",
       "      <td>-0.304028</td>\n",
       "      <td>-0.176807</td>\n",
       "      <td>-0.426606</td>\n",
       "      <td>0.468186</td>\n",
       "      <td>0.384612</td>\n",
       "      <td>0.111589</td>\n",
       "      <td>0.034464</td>\n",
       "    </tr>\n",
       "    <tr>\n",
       "      <td>age</td>\n",
       "      <td>0.109274</td>\n",
       "      <td>1.000000</td>\n",
       "      <td>0.022283</td>\n",
       "      <td>-0.044403</td>\n",
       "      <td>0.032084</td>\n",
       "      <td>0.031144</td>\n",
       "      <td>0.064562</td>\n",
       "      <td>-0.046598</td>\n",
       "      <td>0.017933</td>\n",
       "    </tr>\n",
       "    <tr>\n",
       "      <td>economic.cond.national</td>\n",
       "      <td>-0.304028</td>\n",
       "      <td>0.022283</td>\n",
       "      <td>1.000000</td>\n",
       "      <td>0.344462</td>\n",
       "      <td>0.323603</td>\n",
       "      <td>-0.199175</td>\n",
       "      <td>-0.206605</td>\n",
       "      <td>-0.029273</td>\n",
       "      <td>-0.054950</td>\n",
       "    </tr>\n",
       "    <tr>\n",
       "      <td>economic.cond.household</td>\n",
       "      <td>-0.176807</td>\n",
       "      <td>-0.044403</td>\n",
       "      <td>0.344462</td>\n",
       "      <td>1.000000</td>\n",
       "      <td>0.216653</td>\n",
       "      <td>-0.099644</td>\n",
       "      <td>-0.112186</td>\n",
       "      <td>-0.040521</td>\n",
       "      <td>-0.033001</td>\n",
       "    </tr>\n",
       "    <tr>\n",
       "      <td>Blair</td>\n",
       "      <td>-0.426606</td>\n",
       "      <td>0.032084</td>\n",
       "      <td>0.323603</td>\n",
       "      <td>0.216653</td>\n",
       "      <td>1.000000</td>\n",
       "      <td>-0.243508</td>\n",
       "      <td>-0.295944</td>\n",
       "      <td>-0.021299</td>\n",
       "      <td>-0.067624</td>\n",
       "    </tr>\n",
       "    <tr>\n",
       "      <td>Hague</td>\n",
       "      <td>0.468186</td>\n",
       "      <td>0.031144</td>\n",
       "      <td>-0.199175</td>\n",
       "      <td>-0.099644</td>\n",
       "      <td>-0.243508</td>\n",
       "      <td>1.000000</td>\n",
       "      <td>0.285738</td>\n",
       "      <td>-0.029906</td>\n",
       "      <td>0.028309</td>\n",
       "    </tr>\n",
       "    <tr>\n",
       "      <td>Europe</td>\n",
       "      <td>0.384612</td>\n",
       "      <td>0.064562</td>\n",
       "      <td>-0.206605</td>\n",
       "      <td>-0.112186</td>\n",
       "      <td>-0.295944</td>\n",
       "      <td>0.285738</td>\n",
       "      <td>1.000000</td>\n",
       "      <td>-0.151197</td>\n",
       "      <td>0.076059</td>\n",
       "    </tr>\n",
       "    <tr>\n",
       "      <td>political.knowledge</td>\n",
       "      <td>0.111589</td>\n",
       "      <td>-0.046598</td>\n",
       "      <td>-0.029273</td>\n",
       "      <td>-0.040521</td>\n",
       "      <td>-0.021299</td>\n",
       "      <td>-0.029906</td>\n",
       "      <td>-0.151197</td>\n",
       "      <td>1.000000</td>\n",
       "      <td>-0.156923</td>\n",
       "    </tr>\n",
       "    <tr>\n",
       "      <td>gender</td>\n",
       "      <td>0.034464</td>\n",
       "      <td>0.017933</td>\n",
       "      <td>-0.054950</td>\n",
       "      <td>-0.033001</td>\n",
       "      <td>-0.067624</td>\n",
       "      <td>0.028309</td>\n",
       "      <td>0.076059</td>\n",
       "      <td>-0.156923</td>\n",
       "      <td>1.000000</td>\n",
       "    </tr>\n",
       "  </tbody>\n",
       "</table>\n",
       "</div>"
      ],
      "text/plain": [
       "                             vote       age  economic.cond.national  \\\n",
       "vote                     1.000000  0.109274               -0.304028   \n",
       "age                      0.109274  1.000000                0.022283   \n",
       "economic.cond.national  -0.304028  0.022283                1.000000   \n",
       "economic.cond.household -0.176807 -0.044403                0.344462   \n",
       "Blair                   -0.426606  0.032084                0.323603   \n",
       "Hague                    0.468186  0.031144               -0.199175   \n",
       "Europe                   0.384612  0.064562               -0.206605   \n",
       "political.knowledge      0.111589 -0.046598               -0.029273   \n",
       "gender                   0.034464  0.017933               -0.054950   \n",
       "\n",
       "                         economic.cond.household     Blair     Hague  \\\n",
       "vote                                   -0.176807 -0.426606  0.468186   \n",
       "age                                    -0.044403  0.032084  0.031144   \n",
       "economic.cond.national                  0.344462  0.323603 -0.199175   \n",
       "economic.cond.household                 1.000000  0.216653 -0.099644   \n",
       "Blair                                   0.216653  1.000000 -0.243508   \n",
       "Hague                                  -0.099644 -0.243508  1.000000   \n",
       "Europe                                 -0.112186 -0.295944  0.285738   \n",
       "political.knowledge                    -0.040521 -0.021299 -0.029906   \n",
       "gender                                 -0.033001 -0.067624  0.028309   \n",
       "\n",
       "                           Europe  political.knowledge    gender  \n",
       "vote                     0.384612             0.111589  0.034464  \n",
       "age                      0.064562            -0.046598  0.017933  \n",
       "economic.cond.national  -0.206605            -0.029273 -0.054950  \n",
       "economic.cond.household -0.112186            -0.040521 -0.033001  \n",
       "Blair                   -0.295944            -0.021299 -0.067624  \n",
       "Hague                    0.285738            -0.029906  0.028309  \n",
       "Europe                   1.000000            -0.151197  0.076059  \n",
       "political.knowledge     -0.151197             1.000000 -0.156923  \n",
       "gender                   0.076059            -0.156923  1.000000  "
      ]
     },
     "execution_count": 443,
     "metadata": {},
     "output_type": "execute_result"
    }
   ],
   "source": [
    "# Check for correlation of variable\n",
    "Exit_Polls.corr(method='pearson')"
   ]
  },
  {
   "cell_type": "code",
   "execution_count": 444,
   "metadata": {},
   "outputs": [
    {
     "data": {
      "text/plain": [
       "<matplotlib.axes._subplots.AxesSubplot at 0x2002839d808>"
      ]
     },
     "execution_count": 444,
     "metadata": {},
     "output_type": "execute_result"
    },
    {
     "data": {
      "image/png": "[encoded data removed]",
      "text/plain": [
       "<Figure size 1440x720 with 2 Axes>"
      ]
     },
     "metadata": {
      "needs_background": "light"
     },
     "output_type": "display_data"
    }
   ],
   "source": [
    "plt.subplots(figsize=(20,10))\n",
    "sns.heatmap(Exit_Polls.corr(), annot=True)  # plot the correlation coefficients as a heatmap"
   ]
  },
  {
   "cell_type": "markdown",
   "metadata": {},
   "source": []
  },
  {
   "cell_type": "markdown",
   "metadata": {},
   "source": []
  },
  {
   "cell_type": "markdown",
   "metadata": {},
   "source": []
  },
  {
   "cell_type": "markdown",
   "metadata": {},
   "source": []
  },
  {
   "cell_type": "markdown",
   "metadata": {},
   "source": [
    "# Applying Logistic Regression"
   ]
  },
  {
   "cell_type": "code",
   "execution_count": 445,
   "metadata": {},
   "outputs": [],
   "source": [
    "x = Exit_Polls.drop(columns=['vote'])\n",
    "y = Exit_Polls['vote']"
   ]
  },
  {
   "cell_type": "code",
   "execution_count": 446,
   "metadata": {},
   "outputs": [],
   "source": [
    "# Split X and y into training and test set in 70:30 ratio\n",
    "from sklearn.model_selection import train_test_split\n",
    "x_train, x_test, y_train, y_test = train_test_split(x, y, test_size=0.30, random_state=1)"
   ]
  },
  {
   "cell_type": "code",
   "execution_count": 447,
   "metadata": {},
   "outputs": [],
   "source": [
    "from sklearn.preprocessing import StandardScaler"
   ]
  },
  {
   "cell_type": "code",
   "execution_count": 448,
   "metadata": {},
   "outputs": [],
   "source": [
    "sc = StandardScaler()"
   ]
  },
  {
   "cell_type": "code",
   "execution_count": 449,
   "metadata": {},
   "outputs": [],
   "source": [
    "x_train = sc.fit_transform(x_train)"
   ]
  },
  {
   "cell_type": "code",
   "execution_count": 450,
   "metadata": {},
   "outputs": [],
   "source": [
    "x_test = sc.fit_transform(x_test)"
   ]
  },
  {
   "cell_type": "code",
   "execution_count": 451,
   "metadata": {},
   "outputs": [],
   "source": [
    "from sklearn.linear_model import LogisticRegression"
   ]
  },
  {
   "cell_type": "code",
   "execution_count": 452,
   "metadata": {},
   "outputs": [
    {
     "data": {
      "text/plain": [
       "LogisticRegression()"
      ]
     },
     "execution_count": 452,
     "metadata": {},
     "output_type": "execute_result"
    }
   ],
   "source": [
    "LR_model = LogisticRegression()\n",
    "LR_model.fit(x_train, y_train)\n"
   ]
  },
  {
   "cell_type": "markdown",
   "metadata": {},
   "source": [
    "# Predicting on Train & Test Dataset"
   ]
  },
  {
   "cell_type": "code",
   "execution_count": 453,
   "metadata": {},
   "outputs": [],
   "source": [
    "ytrain_predict = LR_model.predict(x_train)\n",
    "ytest_predict = LR_model.predict(x_test)"
   ]
  },
  {
   "cell_type": "markdown",
   "metadata": {},
   "source": [
    "# Getting the Predicted Classes & Probs"
   ]
  },
  {
   "cell_type": "code",
   "execution_count": 454,
   "metadata": {},
   "outputs": [
    {
     "data": {
      "text/html": [
       "<div>\n",
       "<style scoped>\n",
       "    .dataframe tbody tr th:only-of-type {\n",
       "        vertical-align: middle;\n",
       "    }\n",
       "\n",
       "    .dataframe tbody tr th {\n",
       "        vertical-align: top;\n",
       "    }\n",
       "\n",
       "    .dataframe thead th {\n",
       "        text-align: right;\n",
       "    }\n",
       "</style>\n",
       "<table border=\"1\" class=\"dataframe\">\n",
       "  <thead>\n",
       "    <tr style=\"text-align: right;\">\n",
       "      <th></th>\n",
       "      <th>0</th>\n",
       "      <th>1</th>\n",
       "    </tr>\n",
       "  </thead>\n",
       "  <tbody>\n",
       "    <tr>\n",
       "      <td>0</td>\n",
       "      <td>0.631433</td>\n",
       "      <td>0.368567</td>\n",
       "    </tr>\n",
       "    <tr>\n",
       "      <td>1</td>\n",
       "      <td>0.872356</td>\n",
       "      <td>0.127644</td>\n",
       "    </tr>\n",
       "    <tr>\n",
       "      <td>2</td>\n",
       "      <td>0.993630</td>\n",
       "      <td>0.006370</td>\n",
       "    </tr>\n",
       "    <tr>\n",
       "      <td>3</td>\n",
       "      <td>0.201984</td>\n",
       "      <td>0.798016</td>\n",
       "    </tr>\n",
       "    <tr>\n",
       "      <td>4</td>\n",
       "      <td>0.939325</td>\n",
       "      <td>0.060675</td>\n",
       "    </tr>\n",
       "  </tbody>\n",
       "</table>\n",
       "</div>"
      ],
      "text/plain": [
       "          0         1\n",
       "0  0.631433  0.368567\n",
       "1  0.872356  0.127644\n",
       "2  0.993630  0.006370\n",
       "3  0.201984  0.798016\n",
       "4  0.939325  0.060675"
      ]
     },
     "execution_count": 454,
     "metadata": {},
     "output_type": "execute_result"
    }
   ],
   "source": [
    "ytest_predict_prob=LR_model.predict_proba(x_test)\n",
    "pd.DataFrame(ytest_predict_prob).head()"
   ]
  },
  {
   "cell_type": "markdown",
   "metadata": {},
   "source": [
    "# Model Evaluation - Train Dataset"
   ]
  },
  {
   "cell_type": "code",
   "execution_count": 455,
   "metadata": {},
   "outputs": [
    {
     "data": {
      "text/plain": [
       "0.8341187558906692"
      ]
     },
     "execution_count": 455,
     "metadata": {},
     "output_type": "execute_result"
    }
   ],
   "source": [
    "# Accuracy - Training Data\n",
    "LR_model.score(x_train, y_train)"
   ]
  },
  {
   "cell_type": "markdown",
   "metadata": {},
   "source": [
    "# AUC & ROC for Training Data"
   ]
  },
  {
   "cell_type": "code",
   "execution_count": 456,
   "metadata": {},
   "outputs": [
    {
     "name": "stdout",
     "output_type": "stream",
     "text": [
      "AUC: 0.890\n"
     ]
    }
   ],
   "source": [
    "# predict probabilities\n",
    "probs = LR_model.predict_proba(x_train)\n",
    "# keep probabilities for the positive outcome only\n",
    "probs = probs[:, 1]\n",
    "# calculate AUC\n",
    "auc = roc_auc_score(y_train, probs)\n",
    "print('AUC: %.3f' % auc)\n",
    "# calculate roc curve\n"
   ]
  },
  {
   "cell_type": "code",
   "execution_count": 457,
   "metadata": {},
   "outputs": [
    {
     "name": "stdout",
     "output_type": "stream",
     "text": [
      "0.8341187558906692\n",
      "[[688  66]\n",
      " [110 197]]\n",
      "              precision    recall  f1-score   support\n",
      "\n",
      "         1.0       0.86      0.91      0.89       754\n",
      "         2.0       0.75      0.64      0.69       307\n",
      "\n",
      "    accuracy                           0.83      1061\n",
      "   macro avg       0.81      0.78      0.79      1061\n",
      "weighted avg       0.83      0.83      0.83      1061\n",
      "\n"
     ]
    }
   ],
   "source": [
    "## Performance Matrix on train data set\n",
    "y_train_predict = LR_model.predict(x_train)\n",
    "LR_model_score = LR_model.score(x_train, y_train)\n",
    "print(LR_model_score)\n",
    "print(metrics.confusion_matrix(y_train, y_train_predict))\n",
    "print(metrics.classification_report(y_train, y_train_predict))"
   ]
  },
  {
   "cell_type": "code",
   "execution_count": 458,
   "metadata": {},
   "outputs": [
    {
     "name": "stdout",
     "output_type": "stream",
     "text": [
      "0.8289473684210527\n",
      "[[274  29]\n",
      " [ 49 104]]\n",
      "              precision    recall  f1-score   support\n",
      "\n",
      "         1.0       0.85      0.90      0.88       303\n",
      "         2.0       0.78      0.68      0.73       153\n",
      "\n",
      "    accuracy                           0.83       456\n",
      "   macro avg       0.82      0.79      0.80       456\n",
      "weighted avg       0.83      0.83      0.83       456\n",
      "\n"
     ]
    }
   ],
   "source": [
    "## Performance Matrix on test data set\n",
    "y_test_predict = LR_model.predict(x_test)\n",
    "LR_model_score = LR_model.score(x_test, y_test)\n",
    "print(LR_model_score)\n",
    "print(metrics.confusion_matrix(y_test, y_test_predict))\n",
    "print(metrics.classification_report(y_test, y_test_predict))"
   ]
  },
  {
   "cell_type": "code",
   "execution_count": null,
   "metadata": {},
   "outputs": [],
   "source": []
  },
  {
   "cell_type": "code",
   "execution_count": 459,
   "metadata": {},
   "outputs": [],
   "source": [
    "# AUC & ROC for Test Data"
   ]
  },
  {
   "cell_type": "code",
   "execution_count": 460,
   "metadata": {},
   "outputs": [
    {
     "name": "stdout",
     "output_type": "stream",
     "text": [
      "AUC: 0.890\n"
     ]
    }
   ],
   "source": [
    "# predict probabilities\n",
    "probs = LR_model.predict_proba(x_test)\n",
    "# keep probabilities for the positive outcome only\n",
    "probs = probs[:, 1]\n",
    "# calculate AUC\n",
    "test_auc = roc_auc_score(y_test, probs)\n",
    "print('AUC: %.3f' % auc)\n"
   ]
  },
  {
   "cell_type": "markdown",
   "metadata": {},
   "source": [
    "# Applying Linear Discriminant Analysis"
   ]
  },
  {
   "cell_type": "code",
   "execution_count": 461,
   "metadata": {},
   "outputs": [
    {
     "data": {
      "text/plain": [
       "LinearDiscriminantAnalysis()"
      ]
     },
     "execution_count": 461,
     "metadata": {},
     "output_type": "execute_result"
    }
   ],
   "source": [
    "#Build LDA Model\n",
    "# Refer details for LDA at http://scikit-learn.org/stable/modules/generated/sklearn.discriminant_analysis.LinearDiscriminantAnalysis.html\n",
    "clf = LinearDiscriminantAnalysis()\n",
    "LDA_model=clf.fit(x_train,y_train)\n",
    "LDA_model"
   ]
  },
  {
   "cell_type": "code",
   "execution_count": 462,
   "metadata": {},
   "outputs": [
    {
     "name": "stdout",
     "output_type": "stream",
     "text": [
      "0.8341187558906692\n",
      "[[685  69]\n",
      " [107 200]]\n"
     ]
    }
   ],
   "source": [
    "# Predict it- Train\n",
    "y_predict = LDA_model.predict(x_train)\n",
    "model_score = LDA_model.score(x_train, y_train)\n",
    "print(model_score)\n",
    "print(metrics.confusion_matrix(y_train, y_predict))\n"
   ]
  },
  {
   "cell_type": "code",
   "execution_count": 463,
   "metadata": {},
   "outputs": [
    {
     "name": "stdout",
     "output_type": "stream",
     "text": [
      "0.8333333333333334\n",
      "[[274  29]\n",
      " [ 47 106]]\n"
     ]
    }
   ],
   "source": [
    "# Predict it\n",
    "y_predict = LDA_model.predict(x_test)\n",
    "model_score = LDA_model.score(x_test, y_test)\n",
    "print(model_score)\n",
    "print(metrics.confusion_matrix(y_test, y_predict))\n"
   ]
  },
  {
   "cell_type": "code",
   "execution_count": 464,
   "metadata": {},
   "outputs": [
    {
     "name": "stdout",
     "output_type": "stream",
     "text": [
      "AUC: 0.890\n"
     ]
    }
   ],
   "source": [
    "# predict probabilities\n",
    "probs = LDA_model.predict_proba(x_test)\n",
    "# keep probabilities for the positive outcome only\n",
    "probs = probs[:, 1]\n",
    "# calculate AUC\n",
    "test_auc = roc_auc_score(y_test, probs)\n",
    "print('AUC: %.3f' % auc)"
   ]
  },
  {
   "cell_type": "code",
   "execution_count": 465,
   "metadata": {},
   "outputs": [
    {
     "name": "stdout",
     "output_type": "stream",
     "text": [
      "0.8341187558906692\n"
     ]
    }
   ],
   "source": [
    "model_score = LDA_model.score(x_train, y_train)\n",
    "print(model_score)"
   ]
  },
  {
   "cell_type": "markdown",
   "metadata": {},
   "source": [
    "# Applying K Nearest Neighbours"
   ]
  },
  {
   "cell_type": "code",
   "execution_count": 466,
   "metadata": {},
   "outputs": [
    {
     "data": {
      "text/plain": [
       "KNeighborsClassifier()"
      ]
     },
     "execution_count": 466,
     "metadata": {},
     "output_type": "execute_result"
    }
   ],
   "source": [
    "from sklearn.neighbors import KNeighborsClassifier\n",
    "\n",
    "KNN_model=KNeighborsClassifier()\n",
    "KNN_model.fit(x_train,y_train)"
   ]
  },
  {
   "cell_type": "code",
   "execution_count": 467,
   "metadata": {},
   "outputs": [
    {
     "name": "stdout",
     "output_type": "stream",
     "text": [
      "0.8548539114043355\n",
      "[[691  63]\n",
      " [ 91 216]]\n",
      "              precision    recall  f1-score   support\n",
      "\n",
      "         1.0       0.88      0.92      0.90       754\n",
      "         2.0       0.77      0.70      0.74       307\n",
      "\n",
      "    accuracy                           0.85      1061\n",
      "   macro avg       0.83      0.81      0.82      1061\n",
      "weighted avg       0.85      0.85      0.85      1061\n",
      "\n"
     ]
    }
   ],
   "source": [
    "## Performance Matrix on train data set\n",
    "y_train_predict = KNN_model.predict(x_train)\n",
    "model_score = KNN_model.score(x_train, y_train)\n",
    "print(model_score)\n",
    "print(metrics.confusion_matrix(y_train, y_train_predict))\n",
    "print(metrics.classification_report(y_train, y_train_predict))"
   ]
  },
  {
   "cell_type": "code",
   "execution_count": 468,
   "metadata": {},
   "outputs": [
    {
     "name": "stdout",
     "output_type": "stream",
     "text": [
      "0.8223684210526315\n",
      "[[271  32]\n",
      " [ 49 104]]\n",
      "              precision    recall  f1-score   support\n",
      "\n",
      "         1.0       0.85      0.89      0.87       303\n",
      "         2.0       0.76      0.68      0.72       153\n",
      "\n",
      "    accuracy                           0.82       456\n",
      "   macro avg       0.81      0.79      0.79       456\n",
      "weighted avg       0.82      0.82      0.82       456\n",
      "\n"
     ]
    }
   ],
   "source": [
    "## Performance Matrix on test data set\n",
    "y_test_predict = KNN_model.predict(x_test)\n",
    "model_score = KNN_model.score(x_test, y_test)\n",
    "print(model_score)\n",
    "print(metrics.confusion_matrix(y_test, y_test_predict))\n",
    "print(metrics.classification_report(y_test, y_test_predict))"
   ]
  },
  {
   "cell_type": "code",
   "execution_count": 469,
   "metadata": {},
   "outputs": [
    {
     "name": "stdout",
     "output_type": "stream",
     "text": [
      "AUC: 0.890\n"
     ]
    }
   ],
   "source": [
    "# predict probabilities\n",
    "probs = KNN_model.predict_proba(x_test)\n",
    "# keep probabilities for the positive outcome only\n",
    "probs = probs[:, 1]\n",
    "# calculate AUC\n",
    "test_auc = roc_auc_score(y_test, probs)\n",
    "print('AUC: %.3f' % auc)"
   ]
  },
  {
   "cell_type": "markdown",
   "metadata": {},
   "source": [
    "# Applying Naive Bayes"
   ]
  },
  {
   "cell_type": "code",
   "execution_count": 470,
   "metadata": {},
   "outputs": [],
   "source": [
    "from sklearn.naive_bayes import GaussianNB\n",
    "from sklearn import metrics"
   ]
  },
  {
   "cell_type": "code",
   "execution_count": 471,
   "metadata": {},
   "outputs": [
    {
     "data": {
      "text/plain": [
       "GaussianNB()"
      ]
     },
     "execution_count": 471,
     "metadata": {},
     "output_type": "execute_result"
    }
   ],
   "source": [
    "NB_model = GaussianNB()\n",
    "NB_model.fit(x_train, y_train)"
   ]
  },
  {
   "cell_type": "code",
   "execution_count": 472,
   "metadata": {},
   "outputs": [
    {
     "name": "stdout",
     "output_type": "stream",
     "text": [
      "0.8341187558906692\n",
      "[[673  81]\n",
      " [ 95 212]]\n",
      "              precision    recall  f1-score   support\n",
      "\n",
      "         1.0       0.88      0.89      0.88       754\n",
      "         2.0       0.72      0.69      0.71       307\n",
      "\n",
      "    accuracy                           0.83      1061\n",
      "   macro avg       0.80      0.79      0.80      1061\n",
      "weighted avg       0.83      0.83      0.83      1061\n",
      "\n"
     ]
    }
   ],
   "source": [
    "## Performance Matrix on train data set\n",
    "y_train_predict = NB_model.predict(x_train)\n",
    "model_score = NB_model.score(x_train, y_train)\n",
    "print(model_score)\n",
    "print(metrics.confusion_matrix(y_train, y_train_predict))\n",
    "print(metrics.classification_report(y_train, y_train_predict))"
   ]
  },
  {
   "cell_type": "code",
   "execution_count": 473,
   "metadata": {},
   "outputs": [
    {
     "name": "stdout",
     "output_type": "stream",
     "text": [
      "0.8245614035087719\n",
      "[[268  35]\n",
      " [ 45 108]]\n",
      "              precision    recall  f1-score   support\n",
      "\n",
      "         1.0       0.86      0.88      0.87       303\n",
      "         2.0       0.76      0.71      0.73       153\n",
      "\n",
      "    accuracy                           0.82       456\n",
      "   macro avg       0.81      0.80      0.80       456\n",
      "weighted avg       0.82      0.82      0.82       456\n",
      "\n"
     ]
    }
   ],
   "source": [
    "## Performance Matrix on test data set\n",
    "y_test_predict = NB_model.predict(x_test)\n",
    "model_score = NB_model.score(x_test, y_test)\n",
    "print(model_score)\n",
    "print(metrics.confusion_matrix(y_test, y_test_predict))\n",
    "print(metrics.classification_report(y_test, y_test_predict))"
   ]
  },
  {
   "cell_type": "code",
   "execution_count": 474,
   "metadata": {},
   "outputs": [
    {
     "name": "stdout",
     "output_type": "stream",
     "text": [
      "AUC: 0.890\n"
     ]
    }
   ],
   "source": [
    "# predict probabilities\n",
    "probs = NB_model.predict_proba(x_test)\n",
    "# keep probabilities for the positive outcome only\n",
    "probs = probs[:, 1]\n",
    "# calculate AUC\n",
    "test_auc = roc_auc_score(y_test, probs)\n",
    "print('AUC: %.3f' % auc)"
   ]
  },
  {
   "cell_type": "markdown",
   "metadata": {},
   "source": [
    "# SVM"
   ]
  },
  {
   "cell_type": "code",
   "execution_count": 475,
   "metadata": {},
   "outputs": [
    {
     "data": {
      "text/plain": [
       "SVC(random_state=1)"
      ]
     },
     "execution_count": 475,
     "metadata": {},
     "output_type": "execute_result"
    }
   ],
   "source": [
    "from sklearn import svm\n",
    "\n",
    "SVM_model= svm.SVC(random_state=1)\n",
    "SVM_model.fit(x_train, y_train)"
   ]
  },
  {
   "cell_type": "code",
   "execution_count": 476,
   "metadata": {},
   "outputs": [
    {
     "name": "stdout",
     "output_type": "stream",
     "text": [
      "0.8661639962299718\n",
      "[[703  51]\n",
      " [ 91 216]]\n",
      "              precision    recall  f1-score   support\n",
      "\n",
      "         1.0       0.89      0.93      0.91       754\n",
      "         2.0       0.81      0.70      0.75       307\n",
      "\n",
      "    accuracy                           0.87      1061\n",
      "   macro avg       0.85      0.82      0.83      1061\n",
      "weighted avg       0.86      0.87      0.86      1061\n",
      "\n"
     ]
    }
   ],
   "source": [
    "## Performance Matrix on train data set\n",
    "y_train_predict = SVM_model.predict(x_train)\n",
    "model_score = SVM_model.score(x_train, y_train)\n",
    "print(model_score)\n",
    "print(metrics.confusion_matrix(y_train, y_train_predict))\n",
    "print(metrics.classification_report(y_train, y_train_predict))\n"
   ]
  },
  {
   "cell_type": "code",
   "execution_count": 477,
   "metadata": {},
   "outputs": [
    {
     "name": "stdout",
     "output_type": "stream",
     "text": [
      "0.8289473684210527\n",
      "[[280  23]\n",
      " [ 55  98]]\n",
      "              precision    recall  f1-score   support\n",
      "\n",
      "         1.0       0.84      0.92      0.88       303\n",
      "         2.0       0.81      0.64      0.72       153\n",
      "\n",
      "    accuracy                           0.83       456\n",
      "   macro avg       0.82      0.78      0.80       456\n",
      "weighted avg       0.83      0.83      0.82       456\n",
      "\n"
     ]
    }
   ],
   "source": [
    "## Performance Matrix on test data set\n",
    "y_test_predict = SVM_model.predict(x_test)\n",
    "model_score = SVM_model.score(x_test, y_test)\n",
    "print(model_score)\n",
    "print(metrics.confusion_matrix(y_test, y_test_predict))\n",
    "print(metrics.classification_report(y_test, y_test_predict))"
   ]
  },
  {
   "cell_type": "code",
   "execution_count": null,
   "metadata": {},
   "outputs": [],
   "source": [
    "probs = SVM_model.predict_proba(x_test)\n",
    "# keep probabilities for the positive outcome only\n",
    "probs = probs[:, 1]\n",
    "# calculate AUC\n",
    "test_auc = roc_auc_score(y_test, probs)\n",
    "print('AUC: %.3f' % auc)"
   ]
  },
  {
   "cell_type": "markdown",
   "metadata": {},
   "source": [
    "# ADA Boost"
   ]
  },
  {
   "cell_type": "code",
   "execution_count": null,
   "metadata": {},
   "outputs": [],
   "source": [
    "from sklearn.ensemble import AdaBoostClassifier\n",
    "ADB_model = AdaBoostClassifier(n_estimators=100,random_state=1)\n",
    "ADB_model.fit(x_train,y_train)"
   ]
  },
  {
   "cell_type": "code",
   "execution_count": null,
   "metadata": {},
   "outputs": [],
   "source": [
    "## Performance Matrix on train data set\n",
    "y_train_predict = ADB_model.predict(x_train)\n",
    "model_score = ADB_model.score(x_train, y_train)\n",
    "print(model_score)\n",
    "print(metrics.confusion_matrix(y_train, y_train_predict))\n",
    "print(metrics.classification_report(y_train, y_train_predict))"
   ]
  },
  {
   "cell_type": "code",
   "execution_count": null,
   "metadata": {},
   "outputs": [],
   "source": [
    "## Performance Matrix on test data set\n",
    "y_test_predict = ADB_model.predict(x_test)\n",
    "model_score = ADB_model.score(x_test, y_test)\n",
    "print(model_score)\n",
    "print(metrics.confusion_matrix(y_test, y_test_predict))\n",
    "print(metrics.classification_report(y_test, y_test_predict))"
   ]
  },
  {
   "cell_type": "code",
   "execution_count": null,
   "metadata": {},
   "outputs": [],
   "source": [
    "probs = ADB_model.predict_proba(x_test)\n",
    "# keep probabilities for the positive outcome only\n",
    "probs = probs[:, 1]\n",
    "# calculate AUC\n",
    "test_auc = roc_auc_score(y_test, probs)\n",
    "print('AUC: %.3f' % auc)"
   ]
  },
  {
   "cell_type": "markdown",
   "metadata": {},
   "source": [
    "# XGBoost"
   ]
  },
  {
   "cell_type": "code",
   "execution_count": null,
   "metadata": {},
   "outputs": [],
   "source": [
    "!pip install xgboost"
   ]
  },
  {
   "cell_type": "code",
   "execution_count": null,
   "metadata": {},
   "outputs": [],
   "source": [
    "import xgboost as xgb\n",
    "XGB_model=xgb.XGBClassifier(random_state=1,learning_rate=0.01)\n",
    "XGB_model.fit(x_train, y_train)"
   ]
  },
  {
   "cell_type": "code",
   "execution_count": null,
   "metadata": {},
   "outputs": [],
   "source": [
    "## Performance Matrix on train data set\n",
    "y_train_predict = XGB_model.predict(x_train)\n",
    "model_score = XGB_model.score(x_train, y_train)\n",
    "print(model_score)\n",
    "print(metrics.confusion_matrix(y_train, y_train_predict))\n",
    "print(metrics.classification_report(y_train, y_train_predict))"
   ]
  },
  {
   "cell_type": "code",
   "execution_count": null,
   "metadata": {},
   "outputs": [],
   "source": [
    "## Performance Matrix on test data set\n",
    "y_test_predict = XGB_model.predict(x_test)\n",
    "model_score = XGB_model.score(x_test, y_test)\n",
    "print(model_score)\n",
    "print(metrics.confusion_matrix(y_test, y_test_predict))\n",
    "print(metrics.classification_report(y_test, y_test_predict))"
   ]
  },
  {
   "cell_type": "code",
   "execution_count": null,
   "metadata": {},
   "outputs": [],
   "source": [
    "probs = XGB_model.predict_proba(x_test)\n",
    "# keep probabilities for the positive outcome only\n",
    "probs = probs[:, 1]\n",
    "# calculate AUC\n",
    "test_auc = roc_auc_score(y_test, probs)\n",
    "print('AUC: %.3f' % auc)"
   ]
  },
  {
   "cell_type": "markdown",
   "metadata": {},
   "source": [
    "# Bagging"
   ]
  },
  {
   "cell_type": "code",
   "execution_count": null,
   "metadata": {},
   "outputs": [],
   "source": [
    "from sklearn.ensemble import BaggingClassifier\n",
    "from sklearn.ensemble import RandomForestClassifier\n",
    "rf = RandomForestClassifier()\n",
    "Bagging_model=BaggingClassifier(base_estimator=rf,n_estimators=100,random_state=1)\n",
    "Bagging_model.fit(x_train, y_train)"
   ]
  },
  {
   "cell_type": "code",
   "execution_count": null,
   "metadata": {},
   "outputs": [],
   "source": [
    "## Performance Matrix on train data set\n",
    "y_train_predict = Bagging_model.predict(x_train)\n",
    "model_score =Bagging_model.score(x_train, y_train)\n",
    "print(model_score)\n",
    "print(metrics.confusion_matrix(y_train, y_train_predict))\n",
    "print(metrics.classification_report(y_train, y_train_predict))"
   ]
  },
  {
   "cell_type": "code",
   "execution_count": null,
   "metadata": {},
   "outputs": [],
   "source": [
    "## Performance Matrix on test data set\n",
    "y_test_predict = Bagging_model.predict(x_test)\n",
    "model_score = Bagging_model.score(x_test, y_test)\n",
    "print(model_score)\n",
    "print(metrics.confusion_matrix(y_test, y_test_predict))\n",
    "print(metrics.classification_report(y_test, y_test_predict))"
   ]
  },
  {
   "cell_type": "code",
   "execution_count": null,
   "metadata": {},
   "outputs": [],
   "source": [
    "probs = Bagging_model.predict_proba(x_test)\n",
    "# keep probabilities for the positive outcome only\n",
    "probs = probs[:, 1]\n",
    "# calculate AUC\n",
    "test_auc = roc_auc_score(y_test, probs)\n",
    "print('AUC: %.3f' % auc)"
   ]
  },
  {
   "cell_type": "markdown",
   "metadata": {},
   "source": [
    "# Applying SMOTE technique on all  models & re-running"
   ]
  },
  {
   "cell_type": "markdown",
   "metadata": {},
   "source": [
    "# SMOTE"
   ]
  },
  {
   "cell_type": "code",
   "execution_count": null,
   "metadata": {},
   "outputs": [],
   "source": [
    "!pip install imbalanced-learn"
   ]
  },
  {
   "cell_type": "code",
   "execution_count": null,
   "metadata": {},
   "outputs": [],
   "source": [
    "from imblearn.over_sampling import SMOTE"
   ]
  },
  {
   "cell_type": "code",
   "execution_count": null,
   "metadata": {},
   "outputs": [],
   "source": [
    "sm = SMOTE(random_state=1)\n",
    "x_train_res, y_train_res = sm.fit_sample(x_train, y_train.ravel())"
   ]
  },
  {
   "cell_type": "code",
   "execution_count": null,
   "metadata": {},
   "outputs": [],
   "source": [
    "## Let's check the shape after SMOTE\n",
    "x_train_res.shape\n",
    "y_train_res.shape\n"
   ]
  },
  {
   "cell_type": "markdown",
   "metadata": {},
   "source": [
    "# Naive Bayes with SMOTE"
   ]
  },
  {
   "cell_type": "code",
   "execution_count": null,
   "metadata": {},
   "outputs": [],
   "source": [
    "from sklearn.naive_bayes import GaussianNB\n",
    "from sklearn import metrics"
   ]
  },
  {
   "cell_type": "code",
   "execution_count": null,
   "metadata": {},
   "outputs": [],
   "source": [
    "NB_SM_model = GaussianNB()\n",
    "NB_SM_model.fit(x_train_res, y_train_res)"
   ]
  },
  {
   "cell_type": "code",
   "execution_count": null,
   "metadata": {},
   "outputs": [],
   "source": [
    "## Performance Matrix on train data set with SMOTE - SMOTE is applied only train dataset\n",
    "y_train_predict = NB_SM_model.predict(x_train_res)\n",
    "model_score = NB_SM_model.score(x_train_res, y_train_res)\n",
    "print(model_score)\n",
    "print(metrics.confusion_matrix(y_train_res, y_train_predict))\n",
    "print(metrics.classification_report(y_train_res ,y_train_predict))"
   ]
  },
  {
   "cell_type": "code",
   "execution_count": null,
   "metadata": {},
   "outputs": [],
   "source": [
    "## Performance Matrix on test data set\n",
    "y_test_predict = NB_SM_model.predict(x_test)\n",
    "model_score = NB_SM_model.score(x_test, y_test)\n",
    "print(model_score)\n",
    "print(metrics.confusion_matrix(y_test, y_test_predict))\n",
    "print(metrics.classification_report(y_test, y_test_predict))"
   ]
  },
  {
   "cell_type": "code",
   "execution_count": null,
   "metadata": {},
   "outputs": [],
   "source": [
    "probs = NB_SM_model.predict_proba(x_test)\n",
    "# keep probabilities for the positive outcome only\n",
    "probs = probs[:, 1]\n",
    "# calculate AUC\n",
    "test_auc = roc_auc_score(y_test, probs)\n",
    "print('AUC: %.3f' % auc)"
   ]
  },
  {
   "cell_type": "markdown",
   "metadata": {},
   "source": [
    "# Logistic Regression with SMOTE"
   ]
  },
  {
   "cell_type": "code",
   "execution_count": null,
   "metadata": {},
   "outputs": [],
   "source": [
    "from sklearn.linear_model import LogisticRegression"
   ]
  },
  {
   "cell_type": "code",
   "execution_count": null,
   "metadata": {},
   "outputs": [],
   "source": [
    "LR_SM_model = LogisticRegression()\n",
    "LR_SM_model.fit(x_train_res, y_train_res)\n"
   ]
  },
  {
   "cell_type": "code",
   "execution_count": null,
   "metadata": {},
   "outputs": [],
   "source": [
    "## Performance Matrix on train data set with SMOTE\n",
    "y_train_predict = LR_SM_model.predict(x_train_res)\n",
    "model_score = LR_SM_model.score(x_train_res, y_train_res)\n",
    "print(model_score)\n",
    "print(metrics.confusion_matrix(y_train_res, y_train_predict))\n",
    "print(metrics.classification_report(y_train_res ,y_train_predict))"
   ]
  },
  {
   "cell_type": "code",
   "execution_count": null,
   "metadata": {},
   "outputs": [],
   "source": [
    "## Performance Matrix on test data set\n",
    "y_test_predict = LR_SM_model.predict(x_test)\n",
    "model_score = LR_SM_model.score(x_test, y_test)\n",
    "print(model_score)\n",
    "print(metrics.confusion_matrix(y_test, y_test_predict))\n",
    "print(metrics.classification_report(y_test, y_test_predict))\n"
   ]
  },
  {
   "cell_type": "code",
   "execution_count": null,
   "metadata": {},
   "outputs": [],
   "source": [
    "probs = LR_SM_model.predict_proba(x_test)\n",
    "# keep probabilities for the positive outcome only\n",
    "probs = probs[:, 1]\n",
    "# calculate AUC\n",
    "test_auc = roc_auc_score(y_test, probs)\n",
    "print('AUC: %.3f' % auc)"
   ]
  },
  {
   "cell_type": "code",
   "execution_count": null,
   "metadata": {},
   "outputs": [],
   "source": []
  },
  {
   "cell_type": "markdown",
   "metadata": {},
   "source": [
    "# LDA with SMOTE"
   ]
  },
  {
   "cell_type": "code",
   "execution_count": null,
   "metadata": {},
   "outputs": [],
   "source": [
    "clf = LinearDiscriminantAnalysis()\n",
    "LDA_SM_model=clf.fit(x_train_res,y_train_res)\n",
    "LDA_SM_model"
   ]
  },
  {
   "cell_type": "code",
   "execution_count": null,
   "metadata": {},
   "outputs": [],
   "source": [
    "y_predict = LDA_SM_model.predict(x_test)\n",
    "model_score = LDA_SM_model.score(x_test, y_test)\n",
    "print(model_score)\n"
   ]
  },
  {
   "cell_type": "code",
   "execution_count": null,
   "metadata": {},
   "outputs": [],
   "source": [
    "## Performance Matrix on train data set with SMOTE\n",
    "y_train_predict = LDA_SM_model.predict(x_train_res)\n",
    "model_score = LDA_SM_model.score(x_train_res, y_train_res)\n",
    "print(model_score)\n",
    "print(metrics.confusion_matrix(y_train_res, y_train_predict))\n",
    "print(metrics.classification_report(y_train_res ,y_train_predict))"
   ]
  },
  {
   "cell_type": "code",
   "execution_count": null,
   "metadata": {},
   "outputs": [],
   "source": [
    "probs = LDA_SM_model.predict_proba(x_test)\n",
    "# keep probabilities for the positive outcome only\n",
    "probs = probs[:, 1]\n",
    "# calculate AUC\n",
    "test_auc = roc_auc_score(y_test, probs)\n",
    "print('AUC: %.3f' % auc)"
   ]
  },
  {
   "cell_type": "markdown",
   "metadata": {},
   "source": [
    "# KNN with Smote"
   ]
  },
  {
   "cell_type": "code",
   "execution_count": null,
   "metadata": {},
   "outputs": [],
   "source": []
  },
  {
   "cell_type": "code",
   "execution_count": null,
   "metadata": {},
   "outputs": [],
   "source": [
    "\n",
    "from sklearn.neighbors import KNeighborsClassifier\n",
    "\n",
    "KNN_SM_model=KNeighborsClassifier()\n",
    "KNN_SM_model.fit(x_train_res,y_train_res)"
   ]
  },
  {
   "cell_type": "code",
   "execution_count": null,
   "metadata": {},
   "outputs": [],
   "source": [
    "y_train_predict = KNN_SM_model.predict(x_train_res)\n",
    "model_score = KNN_SM_model.score(x_train_res, y_train_res)\n",
    "print(model_score)\n",
    "print(metrics.confusion_matrix(y_train_res, y_train_predict))\n",
    "print(metrics.classification_report(y_train_res, y_train_predict))"
   ]
  },
  {
   "cell_type": "code",
   "execution_count": null,
   "metadata": {},
   "outputs": [],
   "source": [
    "## Performance Matrix on test data set\n",
    "y_test_predict = KNN_SM_model.predict(x_test)\n",
    "model_score = KNN_SM_model.score(x_test, y_test)\n",
    "print(model_score)\n",
    "print(metrics.confusion_matrix(y_test, y_test_predict))\n",
    "print(metrics.classification_report(y_test, y_test_predict))"
   ]
  },
  {
   "cell_type": "code",
   "execution_count": null,
   "metadata": {},
   "outputs": [],
   "source": [
    "probs = KNN_SM_model.predict_proba(x_test)\n",
    "# keep probabilities for the positive outcome only\n",
    "probs = probs[:, 1]\n",
    "# calculate AUC\n",
    "test_auc = roc_auc_score(y_test, probs)\n",
    "print('AUC: %.3f' % auc)"
   ]
  },
  {
   "cell_type": "markdown",
   "metadata": {},
   "source": [
    "# SVM with SMOTE"
   ]
  },
  {
   "cell_type": "code",
   "execution_count": null,
   "metadata": {},
   "outputs": [],
   "source": [
    "from sklearn import svm\n",
    "\n",
    "SVM_SM_model= svm.SVC(random_state=1)\n",
    "SVM_SM_model.fit(x_train_res, y_train_res)"
   ]
  },
  {
   "cell_type": "code",
   "execution_count": null,
   "metadata": {},
   "outputs": [],
   "source": [
    "## Performance Matrix on train data set\n",
    "y_train_predict = SVM_SM_model.predict(x_train_res)\n",
    "model_score = SVM_SM_model.score(x_train_res, y_train_res)\n",
    "print(model_score)\n",
    "print(metrics.confusion_matrix(y_train_res, y_train_predict))\n",
    "print(metrics.classification_report(y_train_res, y_train_predict))\n"
   ]
  },
  {
   "cell_type": "code",
   "execution_count": null,
   "metadata": {},
   "outputs": [],
   "source": [
    "## Performance Matrix on test data set\n",
    "y_test_predict = SVM_SM_model.predict(x_test)\n",
    "model_score = SVM_SM_model.score(x_test, y_test)\n",
    "print(model_score)\n",
    "print(metrics.confusion_matrix(y_test, y_test_predict))\n",
    "print(metrics.classification_report(y_test, y_test_predict))"
   ]
  },
  {
   "cell_type": "code",
   "execution_count": null,
   "metadata": {},
   "outputs": [],
   "source": [
    "probs = SVM_SM_model.predict_proba(x_test)\n",
    "# keep probabilities for the positive outcome only\n",
    "probs = probs[:, 1]\n",
    "# calculate AUC\n",
    "test_auc = roc_auc_score(y_test, probs)\n",
    "print('AUC: %.3f' % auc)"
   ]
  },
  {
   "cell_type": "markdown",
   "metadata": {},
   "source": [
    "# ADA Boost with SMOTE"
   ]
  },
  {
   "cell_type": "code",
   "execution_count": null,
   "metadata": {},
   "outputs": [],
   "source": [
    "from sklearn.ensemble import AdaBoostClassifier\n",
    "ADB_SM_model = AdaBoostClassifier(n_estimators=100,random_state=1)\n",
    "ADB_SM_model.fit(x_train_res,y_train_res)"
   ]
  },
  {
   "cell_type": "code",
   "execution_count": null,
   "metadata": {},
   "outputs": [],
   "source": [
    "## Performance Matrix on train data set\n",
    "y_train_predict = ADB_SM_model.predict(x_train_res)\n",
    "model_score = ADB_SM_model.score(x_train_res, y_train_res)\n",
    "print(model_score)\n",
    "print(metrics.confusion_matrix(y_train_res, y_train_predict))\n",
    "print(metrics.classification_report(y_train_res, y_train_predict))"
   ]
  },
  {
   "cell_type": "code",
   "execution_count": null,
   "metadata": {},
   "outputs": [],
   "source": [
    "## Performance Matrix on test data set\n",
    "y_test_predict = ADB_SM_model.predict(x_test)\n",
    "model_score = ADB_SM_model.score(x_test, y_test)\n",
    "print(model_score)\n",
    "print(metrics.confusion_matrix(y_test, y_test_predict))\n",
    "print(metrics.classification_report(y_test, y_test_predict))"
   ]
  },
  {
   "cell_type": "code",
   "execution_count": null,
   "metadata": {},
   "outputs": [],
   "source": [
    "probs = ADB_SM_model.predict_proba(x_test)\n",
    "# keep probabilities for the positive outcome only\n",
    "probs = probs[:, 1]\n",
    "# calculate AUC\n",
    "test_auc = roc_auc_score(y_test, probs)\n",
    "print('AUC: %.3f' % auc)"
   ]
  },
  {
   "cell_type": "markdown",
   "metadata": {},
   "source": [
    "# XGBoost Boost with SMOTE"
   ]
  },
  {
   "cell_type": "code",
   "execution_count": null,
   "metadata": {},
   "outputs": [],
   "source": [
    "import xgboost as xgb\n",
    "XGB_SM_model=xgb.XGBClassifier(random_state=1,learning_rate=0.01)\n",
    "XGB_SM_model.fit(x_train_res, y_train_res)"
   ]
  },
  {
   "cell_type": "code",
   "execution_count": null,
   "metadata": {},
   "outputs": [],
   "source": [
    "## Performance Matrix on train data set\n",
    "y_train_predict = XGB_SM_model.predict(x_train_res)\n",
    "model_score = XGB_SM_model.score(x_train_res, y_train_res)\n",
    "print(model_score)\n",
    "print(metrics.confusion_matrix(y_train_res, y_train_predict))\n",
    "print(metrics.classification_report(y_train_res, y_train_predict))"
   ]
  },
  {
   "cell_type": "code",
   "execution_count": null,
   "metadata": {},
   "outputs": [],
   "source": [
    "## Performance Matrix on test data set\n",
    "y_test_predict = XGB_model.predict(x_test)\n",
    "model_score = XGB_model.score(x_test, y_test)\n",
    "print(model_score)\n",
    "print(metrics.confusion_matrix(y_test, y_test_predict))\n",
    "print(metrics.classification_report(y_test, y_test_predict))"
   ]
  },
  {
   "cell_type": "code",
   "execution_count": null,
   "metadata": {},
   "outputs": [],
   "source": [
    "probs = XGB_SM_model.predict_proba(x_test)\n",
    "# keep probabilities for the positive outcome only\n",
    "probs = probs[:, 1]\n",
    "# calculate AUC\n",
    "test_auc = roc_auc_score(y_test, probs)\n",
    "print('AUC: %.3f' % auc)"
   ]
  },
  {
   "cell_type": "markdown",
   "metadata": {},
   "source": [
    "# Bagging with SMOTE"
   ]
  },
  {
   "cell_type": "code",
   "execution_count": null,
   "metadata": {},
   "outputs": [],
   "source": [
    "from sklearn.ensemble import BaggingClassifier\n",
    "from sklearn.ensemble import RandomForestClassifier\n",
    "rf = RandomForestClassifier()\n",
    "Bagging_SM_model=BaggingClassifier(base_estimator=rf,n_estimators=100,random_state=1)\n",
    "Bagging_SM_model.fit(x_train_res, y_train_res)"
   ]
  },
  {
   "cell_type": "code",
   "execution_count": null,
   "metadata": {},
   "outputs": [],
   "source": [
    "## Performance Matrix on train data set\n",
    "y_train_predict = Bagging_model.predict(x_train_res)\n",
    "model_score =Bagging_model.score(x_train_res, y_train_res)\n",
    "print(model_score)\n",
    "print(metrics.confusion_matrix(y_train_res, y_train_predict))\n",
    "print(metrics.classification_report(y_train_res, y_train_predict))"
   ]
  },
  {
   "cell_type": "code",
   "execution_count": null,
   "metadata": {},
   "outputs": [],
   "source": [
    "## Performance Matrix on test data set\n",
    "y_test_predict = Bagging_model.predict(x_test)\n",
    "model_score = Bagging_model.score(x_test, y_test)\n",
    "print(model_score)\n",
    "print(metrics.confusion_matrix(y_test, y_test_predict))\n",
    "print(metrics.classification_report(y_test, y_test_predict))"
   ]
  },
  {
   "cell_type": "code",
   "execution_count": null,
   "metadata": {},
   "outputs": [],
   "source": [
    "probs = Bagging_SM_model.predict_proba(x_test)\n",
    "# keep probabilities for the positive outcome only\n",
    "probs = probs[:, 1]\n",
    "# calculate AUC\n",
    "test_auc = roc_auc_score(y_test, probs)\n",
    "print('AUC: %.3f' % auc)"
   ]
  },
  {
   "cell_type": "code",
   "execution_count": null,
   "metadata": {},
   "outputs": [],
   "source": []
  }
 ],
 "metadata": {
  "kernelspec": {
   "display_name": "Python 3",
   "language": "python",
   "name": "python3"
  },
  "language_info": {
   "codemirror_mode": {
    "name": "ipython",
    "version": 3
   },
   "file_extension": ".py",
   "mimetype": "text/x-python",
   "name": "python",
   "nbconvert_exporter": "python",
   "pygments_lexer": "ipython3",
   "version": "3.7.4"
  }
 },
 "nbformat": 4,
 "nbformat_minor": 2
}
